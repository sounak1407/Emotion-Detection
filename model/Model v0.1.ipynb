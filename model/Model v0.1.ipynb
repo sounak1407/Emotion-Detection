{
 "cells": [
  {
   "cell_type": "code",
   "execution_count": 83,
   "metadata": {},
   "outputs": [],
   "source": [
    "import torch\n",
    "import torch.nn as nn\n",
    "import torch.nn.functional as F\n",
    "import pathlib\n",
    "import os\n",
    "import numpy as np\n",
    "import pandas as pd\n",
    "import matplotlib.pyplot as plt\n",
    "import torchvision\n",
    "import glob\n",
    "from torch.autograd import Variable\n",
    "from torch.optim import Adam\n",
    "from torchvision.transforms import transforms\n",
    "from torch.utils.data import DataLoader"
   ]
  },
  {
   "cell_type": "code",
   "execution_count": 162,
   "metadata": {},
   "outputs": [],
   "source": [
    "transformer = transforms.Compose([\n",
    "    transforms.Grayscale(num_output_channels=1),\n",
    "    transforms.Resize((48, 48)),\n",
    "    transforms.ToTensor(), # 0-255 to 0-1 numpy to tensor\n",
    "]) "
   ]
  },
  {
   "cell_type": "code",
   "execution_count": 163,
   "metadata": {},
   "outputs": [],
   "source": [
    "device = torch.device('cuda' if torch.cuda.is_available() else 'cpu')"
   ]
  },
  {
   "cell_type": "code",
   "execution_count": 164,
   "metadata": {},
   "outputs": [
    {
     "name": "stdout",
     "output_type": "stream",
     "text": [
      "cuda\n"
     ]
    }
   ],
   "source": [
    "print(device)"
   ]
  },
  {
   "cell_type": "code",
   "execution_count": 165,
   "metadata": {},
   "outputs": [],
   "source": [
    "# paths to dataset\n",
    "\n",
    "train_path = r'D:\\Main Current PC\\Book\\train'\n",
    "test_path = r'D:\\Main Current PC\\Book\\test'"
   ]
  },
  {
   "cell_type": "code",
   "execution_count": 166,
   "metadata": {},
   "outputs": [],
   "source": [
    "# feed the data in the form of Data Loader to the model\n",
    "train_loader = DataLoader(\n",
    "    torchvision.datasets.ImageFolder(train_path, transform=transformer),\n",
    "    batch_size=32,\n",
    "    shuffle=True\n",
    ")\n",
    "\n",
    "test_loader = DataLoader(\n",
    "    torchvision.datasets.ImageFolder(test_path, transform=transformer),\n",
    "    batch_size=32,\n",
    "    shuffle=True\n",
    ")"
   ]
  },
  {
   "cell_type": "code",
   "execution_count": 167,
   "metadata": {},
   "outputs": [],
   "source": [
    "def get_categories(path):\n",
    "    \"\"\"\n",
    "    Input: Path\n",
    "    Output: List of Categories\n",
    "    \"\"\"\n",
    "    \n",
    "    root = pathlib.Path(path)\n",
    "    classes = list()\n",
    "    for category in root.iterdir():\n",
    "        classes.append(str(category).split('\\\\')[-1])\n",
    "    \n",
    "    return classes"
   ]
  },
  {
   "cell_type": "code",
   "execution_count": 168,
   "metadata": {},
   "outputs": [
    {
     "name": "stdout",
     "output_type": "stream",
     "text": [
      "['angry', 'disgusted', 'fearful', 'happy', 'neutral', 'sad', 'surprised']\n"
     ]
    }
   ],
   "source": [
    "categories = get_categories(train_path)\n",
    "print(categories)"
   ]
  },
  {
   "cell_type": "code",
   "execution_count": 169,
   "metadata": {},
   "outputs": [],
   "source": [
    "# # CNN Network\n",
    "# class Net(nn.Module):\n",
    "    \n",
    "#     def __init__(self, num_categories=7):\n",
    "#         super(Net, self).__init__()\n",
    "        \n",
    "#         # layer 1\n",
    "#         self.conv1 = nn.Conv2d(in_channels=3, out_channels=6, kernel_size=3, padding=1)\n",
    "#         self.relu1 = nn.ReLU()\n",
    "#         # reduction by factor of 2 in dimensions\n",
    "#         # TODO: find out about other sizes and strides\n",
    "#         self.maxpool1 = nn.MaxPool2d(kernel_size=(2,2), stride=2)\n",
    "        \n",
    "#         # layer 2\n",
    "#         self.conv2 = nn.Conv2d(in_channels=6, out_channels=12, kernel_size=3, padding=1)\n",
    "#         self.relu2 = nn.ReLU()\n",
    "#         self.maxpool2 = nn.MaxPool2d(kernel_size=(2,2), stride=2)\n",
    "#         self.dropout1 = nn.Dropout2d(p = 0.35)\n",
    "        \n",
    "#         # layer 3\n",
    "#         self.conv3 = nn.Conv2d(in_channels=12, out_channels=20, kernel_size=3, padding=1)\n",
    "#         self.relu3 = nn.ReLU()\n",
    "        \n",
    "#         # layer 4\n",
    "#         self.conv4 = nn.Conv2d(in_channels=20, out_channels=32, kernel_size=3, padding=1)\n",
    "#         self.relu4 = nn.ReLU()\n",
    "        \n",
    "#         # 48 -> 24 -> 12\n",
    "#         # 32 channels x (12 x 12) image dimensions\n",
    "#         # 32 x 12 x 12\n",
    "        \n",
    "#         self.fc1 = nn.Linear(32 * 12 * 12, 1000)\n",
    "#         self.relufc1 = nn.ReLU()\n",
    "        \n",
    "#         self.fc2 = nn.Linear(1000, 80)\n",
    "#         self.relufc2 = nn.ReLU()\n",
    "        \n",
    "#         self.fc3 = nn.Linear(80, num_categories)\n",
    "        \n",
    "#     def forward(self, X):\n",
    "        \n",
    "#         X = self.conv1(X)\n",
    "#         X = self.relu1(X)\n",
    "#         X = self.maxpool1(X)\n",
    "        \n",
    "#         X = self.conv2(X)\n",
    "#         X = self.relu2(X)\n",
    "#         X = self.maxpool2(X)\n",
    "#         X = self.dropout1(X)\n",
    "        \n",
    "#         X = self.conv3(X)\n",
    "#         X = self.relu3(X)\n",
    "        \n",
    "#         X = self.conv4(X)\n",
    "#         X = self.relu4(X)\n",
    "        \n",
    "#         X = torch.flatten(X, 1)\n",
    "        \n",
    "#         X = self.fc1(X)\n",
    "#         X = self.relufc1(X)\n",
    "        \n",
    "#         X = self.fc2(X)\n",
    "#         X = self.relufc2(X)\n",
    "        \n",
    "#         output = self.fc3(X)\n",
    "        \n",
    "#         return output"
   ]
  },
  {
   "cell_type": "code",
   "execution_count": 170,
   "metadata": {},
   "outputs": [],
   "source": [
    "# CNN Network\n",
    "class Net(nn.Module):\n",
    "    \n",
    "    def __init__(self, num_categories=7):\n",
    "        super(Net, self).__init__()\n",
    "        \n",
    "        # layer 1\n",
    "        self.conv1 = nn.Conv2d(in_channels=1, out_channels=6, kernel_size=5, padding=2)\n",
    "        self.relu1 = nn.ReLU()\n",
    "        # reduction by factor of 2 in dimensions\n",
    "        # TODO: find out about other sizes and strides\n",
    "        self.maxpool1 = nn.MaxPool2d(kernel_size=(2,2), stride=2)\n",
    "        \n",
    "        # layer 2\n",
    "        self.conv2 = nn.Conv2d(in_channels=6, out_channels=12, kernel_size=5, padding=2)\n",
    "        self.relu2 = nn.ReLU()\n",
    "        self.maxpool2 = nn.MaxPool2d(kernel_size=(2,2), stride=2)\n",
    "        \n",
    "        # layer 3\n",
    "        self.conv3 = nn.Conv2d(in_channels=12, out_channels=18, kernel_size=5, padding=2)\n",
    "        self.relu3 = nn.ReLU()\n",
    "        \n",
    "        # layer 4\n",
    "#         self.conv4 = nn.Conv2d(in_channels=18, out_channels=36, kernel_size=3, padding=1)\n",
    "#         self.relu4 = nn.ReLU()\n",
    "        \n",
    "        # 48 -> 24 -> 12\n",
    "        # 32 channels x (12 x 12) image dimensions\n",
    "        # 32 x 12 x 12\n",
    "        \n",
    "        self.fc1 = nn.Linear(18 * 12 * 12, 120)\n",
    "        self.dropout1 = nn.Dropout2d(p = 0.05)\n",
    "\n",
    "        self.relufc1 = nn.ReLU()\n",
    "        \n",
    "        self.fc2 = nn.Linear(120, 80)\n",
    "#         self.dropout2 = nn.Dropout2d(p = 0.40)\n",
    "        self.relufc2 = nn.ReLU()\n",
    "        \n",
    "        self.fc3 = nn.Linear(80, num_categories)\n",
    "        \n",
    "    def forward(self, X):\n",
    "        \n",
    "        X = self.conv1(X)\n",
    "        X = self.relu1(X)\n",
    "        X = self.maxpool1(X)\n",
    "        \n",
    "        X = self.conv2(X)\n",
    "        X = self.relu2(X)\n",
    "        X = self.maxpool2(X)\n",
    "        \n",
    "        X = self.conv3(X)\n",
    "        X = self.relu3(X)\n",
    "        \n",
    "#         X = self.conv4(X)\n",
    "#         X = self.relu4(X)\n",
    "        \n",
    "        X = torch.flatten(X, 1)\n",
    "        \n",
    "        X = self.fc1(X)\n",
    "        X = self.dropout1(X)\n",
    "        X = self.relufc1(X)\n",
    "        \n",
    "        X = self.fc2(X)\n",
    "#         X = self.dropout2(X)\n",
    "        X = self.relufc2(X)\n",
    "        \n",
    "        output = self.fc3(X)\n",
    "        \n",
    "        return output"
   ]
  },
  {
   "cell_type": "code",
   "execution_count": 171,
   "metadata": {},
   "outputs": [],
   "source": [
    "model = Net(num_categories=7).to(device)"
   ]
  },
  {
   "cell_type": "code",
   "execution_count": 172,
   "metadata": {},
   "outputs": [
    {
     "data": {
      "text/plain": [
       "Net(\n",
       "  (conv1): Conv2d(1, 6, kernel_size=(5, 5), stride=(1, 1), padding=(2, 2))\n",
       "  (relu1): ReLU()\n",
       "  (maxpool1): MaxPool2d(kernel_size=(2, 2), stride=2, padding=0, dilation=1, ceil_mode=False)\n",
       "  (conv2): Conv2d(6, 12, kernel_size=(5, 5), stride=(1, 1), padding=(2, 2))\n",
       "  (relu2): ReLU()\n",
       "  (maxpool2): MaxPool2d(kernel_size=(2, 2), stride=2, padding=0, dilation=1, ceil_mode=False)\n",
       "  (conv3): Conv2d(12, 18, kernel_size=(5, 5), stride=(1, 1), padding=(2, 2))\n",
       "  (relu3): ReLU()\n",
       "  (fc1): Linear(in_features=2592, out_features=120, bias=True)\n",
       "  (dropout1): Dropout2d(p=0.05, inplace=False)\n",
       "  (relufc1): ReLU()\n",
       "  (fc2): Linear(in_features=120, out_features=80, bias=True)\n",
       "  (relufc2): ReLU()\n",
       "  (fc3): Linear(in_features=80, out_features=7, bias=True)\n",
       ")"
      ]
     },
     "execution_count": 172,
     "metadata": {},
     "output_type": "execute_result"
    }
   ],
   "source": [
    "model"
   ]
  },
  {
   "cell_type": "code",
   "execution_count": 176,
   "metadata": {},
   "outputs": [],
   "source": [
    "optimizer = Adam(params=model.parameters(), lr=0.0021, weight_decay=0.0001)\n",
    "loss_function =  nn.CrossEntropyLoss()\n",
    "num_epochs = 20"
   ]
  },
  {
   "cell_type": "code",
   "execution_count": 177,
   "metadata": {},
   "outputs": [],
   "source": [
    "# calculating size of train and test dataset\n",
    "train_count = len(glob.glob(train_path+'/**/*.png'))\n",
    "test_count = len(glob.glob(test_path+'/**/*.png'))"
   ]
  },
  {
   "cell_type": "code",
   "execution_count": 179,
   "metadata": {},
   "outputs": [
    {
     "data": {
      "text/plain": [
       "28709"
      ]
     },
     "execution_count": 179,
     "metadata": {},
     "output_type": "execute_result"
    }
   ],
   "source": [
    "train_count"
   ]
  },
  {
   "cell_type": "code",
   "execution_count": 180,
   "metadata": {},
   "outputs": [
    {
     "name": "stdout",
     "output_type": "stream",
     "text": [
      "\n",
      "    Epoch : 0, Train Loss : 1.781368374824524, Train Accuracy : 0.26225225539029573, Test Accuracy : 0.34313179158539986\n",
      "    \n",
      "\n",
      "    Epoch : 1, Train Loss : 1.5824745893478394, Train Accuracy : 0.3798808735936466, Test Accuracy : 0.4001114516578434\n",
      "    \n",
      "\n",
      "    Epoch : 2, Train Loss : 1.468206524848938, Train Accuracy : 0.4289595597199484, Test Accuracy : 0.441209250487601\n",
      "    \n",
      "\n",
      "    Epoch : 3, Train Loss : 1.386243462562561, Train Accuracy : 0.46306036434567555, Test Accuracy : 0.45611590972415716\n",
      "    \n",
      "\n",
      "    Epoch : 4, Train Loss : 1.3267706632614136, Train Accuracy : 0.4908565258281375, Test Accuracy : 0.4632209529116746\n",
      "    \n",
      "\n",
      "    Epoch : 5, Train Loss : 1.2685714960098267, Train Accuracy : 0.5102581072137657, Test Accuracy : 0.48161047645583727\n",
      "    \n",
      "\n",
      "    Epoch : 6, Train Loss : 1.2199358940124512, Train Accuracy : 0.5323069420739142, Test Accuracy : 0.47130119810532184\n",
      "    \n",
      "\n",
      "    Epoch : 7, Train Loss : 1.1643739938735962, Train Accuracy : 0.5552614162806089, Test Accuracy : 0.4767344664251881\n",
      "    \n",
      "\n",
      "    Epoch : 8, Train Loss : 1.1179746389389038, Train Accuracy : 0.5772057542930789, Test Accuracy : 0.48815826135413765\n",
      "    \n",
      "\n",
      "    Epoch : 9, Train Loss : 1.063204050064087, Train Accuracy : 0.5966421679612665, Test Accuracy : 0.481471161883533\n",
      "    \n",
      "\n",
      "    Epoch : 10, Train Loss : 1.0165808200836182, Train Accuracy : 0.6136751541328503, Test Accuracy : 0.48328225132348845\n",
      "    \n",
      "\n",
      "    Epoch : 11, Train Loss : 0.966515839099884, Train Accuracy : 0.6359329826883555, Test Accuracy : 0.4880189467818334\n",
      "    \n",
      "\n",
      "    Epoch : 12, Train Loss : 0.9278839230537415, Train Accuracy : 0.6508063673412519, Test Accuracy : 0.48202842017275005\n",
      "    \n",
      "\n",
      "    Epoch : 13, Train Loss : 0.8798622488975525, Train Accuracy : 0.6717754014420565, Test Accuracy : 0.47269434382836445\n",
      "    \n",
      "\n",
      "    Epoch : 14, Train Loss : 0.8303065896034241, Train Accuracy : 0.6913163119579226, Test Accuracy : 0.4873223739203121\n",
      "    \n",
      "\n",
      "    Epoch : 15, Train Loss : 0.7924039959907532, Train Accuracy : 0.7039952628095719, Test Accuracy : 0.47993870158818613\n",
      "    \n",
      "\n",
      "    Epoch : 16, Train Loss : 0.7554915547370911, Train Accuracy : 0.7190428088752656, Test Accuracy : 0.47450543326831984\n",
      "    \n",
      "\n",
      "    Epoch : 17, Train Loss : 0.7141152024269104, Train Accuracy : 0.7360061304817305, Test Accuracy : 0.4842574533296183\n",
      "    \n",
      "\n",
      "    Epoch : 18, Train Loss : 0.6718404293060303, Train Accuracy : 0.7539795882824202, Test Accuracy : 0.46544998606854276\n",
      "    \n",
      "\n",
      "    Epoch : 19, Train Loss : 0.6503951549530029, Train Accuracy : 0.7612595353373507, Test Accuracy : 0.47380886040679854\n",
      "    \n"
     ]
    }
   ],
   "source": [
    "best_accuracy = 0.0\n",
    "test_accuracy_list = list()\n",
    "train_accuracy_list = list()\n",
    "training_loss = list()\n",
    "\n",
    "for epoch in range(num_epochs):\n",
    "    \n",
    "    # Evaluation and training on training dataset\n",
    "    model.train()\n",
    "    train_accuracy = 0.0\n",
    "    train_loss = 0.0\n",
    "    \n",
    "    for i, (images, labels) in enumerate(train_loader):\n",
    "        \n",
    "        if torch.cuda.is_available():\n",
    "            images = Variable(images.cuda())\n",
    "            labels = Variable(labels.cuda())\n",
    "        \n",
    "        # to avoid gradient accumulation. VERY IMPORTANT\n",
    "        optimizer.zero_grad()\n",
    "        \n",
    "        outputs = model(images)\n",
    "        loss = loss_function(outputs, labels)\n",
    "        loss.backward()\n",
    "        \n",
    "        # update the weights and biases\n",
    "        optimizer.step()\n",
    "        \n",
    "        train_loss += loss.cpu().data*images.size(0)\n",
    "        _, prediction = torch.max(outputs.data, 1) \n",
    "        \n",
    "        train_accuracy += int(torch.sum(prediction==labels.data))\n",
    "    \n",
    "    train_accuracy /= train_count\n",
    "    train_accuracy_list.append(train_accuracy)\n",
    "    \n",
    "    train_loss /= train_count\n",
    "    training_loss.append(train_loss)\n",
    "    test_accuracy = 0.0\n",
    "    \n",
    "    # Evaluation on testing dataset\n",
    "    model.eval()\n",
    "    for i, (images, labels) in enumerate(test_loader):\n",
    "        if torch.cuda.is_available():\n",
    "            images = Variable(images.cuda())\n",
    "            labels = Variable(labels.cuda())\n",
    "        \n",
    "        outputs = model(images)\n",
    "        _, prediction = torch.max(outputs.data, 1) \n",
    "        test_accuracy += int(torch.sum(prediction==labels.data))\n",
    "        \n",
    "    test_accuracy /= test_count\n",
    "    \n",
    "    print(f\"\"\"\n",
    "    Epoch : {epoch}, Train Loss : {train_loss}, Train Accuracy : {train_accuracy}, Test Accuracy : {test_accuracy}\n",
    "    \"\"\")\n",
    "    \n",
    "    test_accuracy_list.append(test_accuracy)\n",
    "    # Save best model\n",
    "    if test_accuracy > best_accuracy:\n",
    "        torch.save(model.state_dict(), 'best_checkpoint.model')\n",
    "        best_accuracy = test_accuracy"
   ]
  },
  {
   "cell_type": "code",
   "execution_count": 181,
   "metadata": {},
   "outputs": [
    {
     "data": {
      "text/plain": [
       "[<matplotlib.lines.Line2D at 0x1cedab34700>]"
      ]
     },
     "execution_count": 181,
     "metadata": {},
     "output_type": "execute_result"
    },
    {
     "data": {
      "image/png": "[encoded data removed]",
      "text/plain": [
       "<Figure size 432x288 with 1 Axes>"
      ]
     },
     "metadata": {
      "needs_background": "light"
     },
     "output_type": "display_data"
    }
   ],
   "source": [
    "epochs = list(range(20))\n",
    "plt.title('Training Loss v/s Epochs')\n",
    "plt.xlabel('Epochs')\n",
    "plt.ylabel('Training Loss')\n",
    "plt.plot(epochs, training_loss)"
   ]
  },
  {
   "cell_type": "code",
   "execution_count": null,
   "metadata": {},
   "outputs": [],
   "source": []
  },
  {
   "cell_type": "code",
   "execution_count": 225,
   "metadata": {},
   "outputs": [
    {
     "data": {
      "text/plain": [
       "[0.49456673168013376,\n",
       " 0.5016717748676511,\n",
       " 0.48021733073279466,\n",
       " 0.49052660908331014,\n",
       " 0.4927556422401783,\n",
       " 0.48843689049874617,\n",
       " 0.4887155196433547,\n",
       " 0.4896907216494845,\n",
       " 0.4917804402340485,\n",
       " 0.4928949568124826]"
      ]
     },
     "execution_count": 225,
     "metadata": {},
     "output_type": "execute_result"
    }
   ],
   "source": [
    "test_accuracy_list"
   ]
  },
  {
   "cell_type": "code",
   "execution_count": 132,
   "metadata": {},
   "outputs": [
    {
     "data": {
      "image/png": "[encoded data removed]",
      "text/plain": [
       "<Figure size 432x288 with 1 Axes>"
      ]
     },
     "metadata": {
      "needs_background": "light"
     },
     "output_type": "display_data"
    }
   ],
   "source": [
    "plt.plot(epochs, test_accuracy_list)\n",
    "plt.plot(epochs, train_accuracy_list)\n",
    "plt.show()"
   ]
  },
  {
   "cell_type": "code",
   "execution_count": 183,
   "metadata": {},
   "outputs": [
    {
     "data": {
      "text/plain": [
       "tensor([[ 4.5217, -5.6837,  1.9399, -0.9727, -3.7017, -0.8737, -1.6833],\n",
       "        [-1.3481, -4.8862,  2.1244, -1.6541,  0.1664, -0.8722,  1.1336],\n",
       "        [-2.1595, -8.7955, -1.1004, -1.0721,  3.3069,  3.0836, -4.9792],\n",
       "        [-3.4131, -7.4820,  0.3867,  1.3416,  2.0476, -1.6008, -1.4037],\n",
       "        [-0.5400, -9.9877,  1.1077, -0.0416,  2.3823,  1.9268, -4.4857],\n",
       "        [-5.8934, -7.1273, -2.6109,  7.4993, -1.3908, -2.3973, -1.2556],\n",
       "        [ 1.0475, -1.7575,  0.0709, -1.0906,  0.1202,  1.0979, -3.3851],\n",
       "        [-0.1660, -5.3451,  0.0376,  1.8406, -0.6616, -1.4944, -0.6469],\n",
       "        [ 0.2452, -3.8146,  1.2657, -7.1774, -2.9250, -1.6596,  5.1843],\n",
       "        [-1.3308, -1.6945, -0.4389,  0.8936, -0.0191,  1.0585, -2.7444]],\n",
       "       device='cuda:0', grad_fn=<AddmmBackward0>)"
      ]
     },
     "execution_count": 183,
     "metadata": {},
     "output_type": "execute_result"
    }
   ],
   "source": [
    "outputs"
   ]
  },
  {
   "cell_type": "code",
   "execution_count": 82,
   "metadata": {},
   "outputs": [
    {
     "data": {
      "text/plain": [
       "<All keys matched successfully>"
      ]
     },
     "execution_count": 82,
     "metadata": {},
     "output_type": "execute_result"
    }
   ],
   "source": [
    "model_load = Net()\n",
    "model_load.load_state_dict(torch.load('best_checkpoint.model'))"
   ]
  },
  {
   "cell_type": "code",
   "execution_count": 83,
   "metadata": {},
   "outputs": [
    {
     "data": {
      "text/plain": [
       "Net(\n",
       "  (conv1): Conv2d(3, 6, kernel_size=(3, 3), stride=(1, 1), padding=(1, 1))\n",
       "  (relu1): ReLU()\n",
       "  (maxpool1): MaxPool2d(kernel_size=(2, 2), stride=2, padding=0, dilation=1, ceil_mode=False)\n",
       "  (conv2): Conv2d(6, 12, kernel_size=(3, 3), stride=(1, 1), padding=(1, 1))\n",
       "  (relu2): ReLU()\n",
       "  (maxpool2): MaxPool2d(kernel_size=(2, 2), stride=2, padding=0, dilation=1, ceil_mode=False)\n",
       "  (conv3): Conv2d(12, 20, kernel_size=(3, 3), stride=(1, 1), padding=(1, 1))\n",
       "  (relu3): ReLU()\n",
       "  (conv4): Conv2d(20, 32, kernel_size=(3, 3), stride=(1, 1), padding=(1, 1))\n",
       "  (relu4): ReLU()\n",
       "  (fc1): Linear(in_features=4608, out_features=1000, bias=True)\n",
       "  (relufc1): ReLU()\n",
       "  (fc2): Linear(in_features=1000, out_features=80, bias=True)\n",
       "  (relufc2): ReLU()\n",
       "  (fc3): Linear(in_features=80, out_features=7, bias=True)\n",
       ")"
      ]
     },
     "execution_count": 83,
     "metadata": {},
     "output_type": "execute_result"
    }
   ],
   "source": [
    "model_load.eval()"
   ]
  },
  {
   "cell_type": "code",
   "execution_count": 85,
   "metadata": {},
   "outputs": [],
   "source": [
    "sample_path = 'D:\\Main Current PC\\Book\\sample'"
   ]
  },
  {
   "cell_type": "code",
   "execution_count": 105,
   "metadata": {},
   "outputs": [
    {
     "data": {
      "text/plain": [
       "['angry', 'disgusted', 'fearful', 'happy', 'neutral', 'sad', 'surprised']"
      ]
     },
     "execution_count": 105,
     "metadata": {},
     "output_type": "execute_result"
    }
   ],
   "source": [
    "categories"
   ]
  },
  {
   "cell_type": "code",
   "execution_count": 106,
   "metadata": {},
   "outputs": [],
   "source": [
    "sample_loader = DataLoader(\n",
    "    torchvision.datasets.ImageFolder(sample_path, transform=transformer),\n",
    "    batch_size=1,\n",
    "    shuffle=True\n",
    ")"
   ]
  },
  {
   "cell_type": "code",
   "execution_count": 107,
   "metadata": {},
   "outputs": [],
   "source": [
    "transformer = transforms.Compose([\n",
    "    transforms.Resize((48, 48)),\n",
    "    transforms.ToTensor(), # 0-255 to 0-1 numpy to tensor\n",
    "]) "
   ]
  },
  {
   "cell_type": "code",
   "execution_count": 108,
   "metadata": {},
   "outputs": [],
   "source": [
    "for i, (images, labels) in enumerate(sample_loader):\n",
    "        if torch.cuda.is_available():\n",
    "            images = Variable(images)\n",
    "            labexls = Variable(labels)\n",
    "        \n",
    "        outputs = model_load(images)\n",
    "        _, prediction = torch.max(outputs.data, 1) \n",
    "        test_accuracy += int(torch.sum(prediction==labels.data))\n",
    "    "
   ]
  },
  {
   "cell_type": "code",
   "execution_count": 109,
   "metadata": {},
   "outputs": [
    {
     "data": {
      "text/plain": [
       "tensor([3])"
      ]
     },
     "execution_count": 109,
     "metadata": {},
     "output_type": "execute_result"
    }
   ],
   "source": [
    "prediction"
   ]
  },
  {
   "cell_type": "code",
   "execution_count": 110,
   "metadata": {},
   "outputs": [],
   "source": [
    "def predict_image(image):\n",
    "    image_tensor = transformer(image).float()\n",
    "    image_tensor = imagetensor.unsqueeze(0)\n",
    "    input = Variable(image_tensor)\n",
    "    input = input.to(device)\n",
    "    output = model_load(input)\n",
    "    index = output.data.cpu().numpy().argmax()\n",
    "    return index"
   ]
  },
  {
   "cell_type": "code",
   "execution_count": null,
   "metadata": {},
   "outputs": [],
   "source": []
  }
 ],
 "metadata": {
  "kernelspec": {
   "display_name": "Python 3",
   "language": "python",
   "name": "python3"
  },
  "language_info": {
   "codemirror_mode": {
    "name": "ipython",
    "version": 3
   },
   "file_extension": ".py",
   "mimetype": "text/x-python",
   "name": "python",
   "nbconvert_exporter": "python",
   "pygments_lexer": "ipython3",
   "version": "3.8.5"
  }
 },
 "nbformat": 4,
 "nbformat_minor": 5
}
